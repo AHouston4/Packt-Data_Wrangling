{
 "cells": [
  {
   "cell_type": "markdown",
   "metadata": {},
   "source": [
    "### Exercise 6"
   ]
  },
  {
   "cell_type": "code",
   "execution_count": 1,
   "metadata": {},
   "outputs": [],
   "source": [
    "import random\n",
    "list_1 = [random.randint(0, 30) for x in range (0, 100)]"
   ]
  },
  {
   "cell_type": "code",
   "execution_count": 2,
   "metadata": {},
   "outputs": [
    {
     "data": {
      "text/plain": [
       "[29,\n",
       " 22,\n",
       " 9,\n",
       " 5,\n",
       " 24,\n",
       " 23,\n",
       " 18,\n",
       " 12,\n",
       " 17,\n",
       " 30,\n",
       " 23,\n",
       " 0,\n",
       " 13,\n",
       " 14,\n",
       " 0,\n",
       " 14,\n",
       " 13,\n",
       " 18,\n",
       " 18,\n",
       " 1,\n",
       " 26,\n",
       " 17,\n",
       " 9,\n",
       " 10,\n",
       " 3,\n",
       " 30,\n",
       " 6,\n",
       " 22,\n",
       " 1,\n",
       " 0,\n",
       " 2,\n",
       " 28,\n",
       " 12,\n",
       " 2,\n",
       " 1,\n",
       " 20,\n",
       " 0,\n",
       " 6,\n",
       " 8,\n",
       " 24,\n",
       " 20,\n",
       " 10,\n",
       " 16,\n",
       " 9,\n",
       " 17,\n",
       " 23,\n",
       " 12,\n",
       " 30,\n",
       " 12,\n",
       " 27,\n",
       " 24,\n",
       " 22,\n",
       " 18,\n",
       " 14,\n",
       " 12,\n",
       " 9,\n",
       " 11,\n",
       " 10,\n",
       " 9,\n",
       " 13,\n",
       " 28,\n",
       " 22,\n",
       " 15,\n",
       " 27,\n",
       " 12,\n",
       " 15,\n",
       " 4,\n",
       " 0,\n",
       " 16,\n",
       " 9,\n",
       " 4,\n",
       " 30,\n",
       " 26,\n",
       " 10,\n",
       " 1,\n",
       " 5,\n",
       " 28,\n",
       " 20,\n",
       " 7,\n",
       " 12,\n",
       " 17,\n",
       " 29,\n",
       " 20,\n",
       " 24,\n",
       " 12,\n",
       " 5,\n",
       " 3,\n",
       " 2,\n",
       " 26,\n",
       " 19,\n",
       " 7,\n",
       " 23,\n",
       " 5,\n",
       " 6,\n",
       " 13,\n",
       " 26,\n",
       " 26,\n",
       " 4,\n",
       " 22,\n",
       " 13]"
      ]
     },
     "execution_count": 2,
     "metadata": {},
     "output_type": "execute_result"
    }
   ],
   "source": [
    "list_1"
   ]
  },
  {
   "cell_type": "code",
   "execution_count": 3,
   "metadata": {},
   "outputs": [
    {
     "data": {
      "text/plain": [
       "[0,\n",
       " 1,\n",
       " 2,\n",
       " 3,\n",
       " 4,\n",
       " 5,\n",
       " 6,\n",
       " 7,\n",
       " 8,\n",
       " 9,\n",
       " 10,\n",
       " 11,\n",
       " 12,\n",
       " 13,\n",
       " 14,\n",
       " 15,\n",
       " 16,\n",
       " 17,\n",
       " 18,\n",
       " 19,\n",
       " 20,\n",
       " 22,\n",
       " 23,\n",
       " 24,\n",
       " 26,\n",
       " 27,\n",
       " 28,\n",
       " 29,\n",
       " 30]"
      ]
     },
     "execution_count": 3,
     "metadata": {},
     "output_type": "execute_result"
    }
   ],
   "source": [
    "unique_number_list = list(set(list_1))\n",
    "unique_number_list"
   ]
  },
  {
   "cell_type": "markdown",
   "metadata": {},
   "source": [
    "### Exercise 7"
   ]
  },
  {
   "cell_type": "code",
   "execution_count": 4,
   "metadata": {},
   "outputs": [],
   "source": [
    "set1 = {\"Apple\", \"Orange\", \"Banana\"}\n",
    "set2 = {\"Pear\", \"Peach\", \"Mango\", \"Banana\"}"
   ]
  },
  {
   "cell_type": "code",
   "execution_count": 5,
   "metadata": {},
   "outputs": [
    {
     "data": {
      "text/plain": [
       "{'Apple', 'Banana', 'Orange'}"
      ]
     },
     "execution_count": 5,
     "metadata": {},
     "output_type": "execute_result"
    }
   ],
   "source": [
    "set1"
   ]
  },
  {
   "cell_type": "code",
   "execution_count": 6,
   "metadata": {},
   "outputs": [
    {
     "data": {
      "text/plain": [
       "{'Banana', 'Mango', 'Peach', 'Pear'}"
      ]
     },
     "execution_count": 6,
     "metadata": {},
     "output_type": "execute_result"
    }
   ],
   "source": [
    "set2"
   ]
  },
  {
   "cell_type": "code",
   "execution_count": 7,
   "metadata": {},
   "outputs": [
    {
     "data": {
      "text/plain": [
       "{'Apple', 'Banana', 'Mango', 'Orange', 'Peach', 'Pear'}"
      ]
     },
     "execution_count": 7,
     "metadata": {},
     "output_type": "execute_result"
    }
   ],
   "source": [
    "set1 | set2"
   ]
  },
  {
   "cell_type": "code",
   "execution_count": 8,
   "metadata": {},
   "outputs": [
    {
     "data": {
      "text/plain": [
       "{'Banana'}"
      ]
     },
     "execution_count": 8,
     "metadata": {},
     "output_type": "execute_result"
    }
   ],
   "source": [
    "set1 & set2"
   ]
  },
  {
   "cell_type": "markdown",
   "metadata": {},
   "source": [
    "### Exercise 8"
   ]
  },
  {
   "cell_type": "code",
   "execution_count": 9,
   "metadata": {},
   "outputs": [],
   "source": [
    "my_null_set = set({})"
   ]
  },
  {
   "cell_type": "code",
   "execution_count": 10,
   "metadata": {},
   "outputs": [
    {
     "data": {
      "text/plain": [
       "set"
      ]
     },
     "execution_count": 10,
     "metadata": {},
     "output_type": "execute_result"
    }
   ],
   "source": [
    "type(my_null_set)"
   ]
  },
  {
   "cell_type": "code",
   "execution_count": 11,
   "metadata": {},
   "outputs": [
    {
     "data": {
      "text/plain": [
       "dict"
      ]
     },
     "execution_count": 11,
     "metadata": {},
     "output_type": "execute_result"
    }
   ],
   "source": [
    "my_null_set = {}\n",
    "type(my_null_set)"
   ]
  }
 ],
 "metadata": {
  "kernelspec": {
   "display_name": "Python 3",
   "language": "python",
   "name": "python3"
  },
  "language_info": {
   "codemirror_mode": {
    "name": "ipython",
    "version": 3
   },
   "file_extension": ".py",
   "mimetype": "text/x-python",
   "name": "python",
   "nbconvert_exporter": "python",
   "pygments_lexer": "ipython3",
   "version": "3.6.4"
  }
 },
 "nbformat": 4,
 "nbformat_minor": 2
}
