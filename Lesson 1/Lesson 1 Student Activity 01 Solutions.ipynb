{
 "cells": [
  {
   "cell_type": "markdown",
   "metadata": {},
   "source": [
    "### Task 1"
   ]
  },
  {
   "cell_type": "code",
   "execution_count": 1,
   "metadata": {},
   "outputs": [],
   "source": [
    "import random\n",
    "\n",
    "LIMIT = 100\n",
    "random_number_list = [random.randint(0, LIMIT) for x in range(0, LIMIT)]"
   ]
  },
  {
   "cell_type": "code",
   "execution_count": 2,
   "metadata": {},
   "outputs": [
    {
     "data": {
      "text/plain": [
       "[68,\n",
       " 17,\n",
       " 96,\n",
       " 78,\n",
       " 57,\n",
       " 63,\n",
       " 23,\n",
       " 38,\n",
       " 8,\n",
       " 57,\n",
       " 77,\n",
       " 40,\n",
       " 52,\n",
       " 52,\n",
       " 33,\n",
       " 99,\n",
       " 13,\n",
       " 10,\n",
       " 54,\n",
       " 11,\n",
       " 60,\n",
       " 92,\n",
       " 89,\n",
       " 24,\n",
       " 2,\n",
       " 4,\n",
       " 75,\n",
       " 45,\n",
       " 6,\n",
       " 41,\n",
       " 69,\n",
       " 56,\n",
       " 86,\n",
       " 19,\n",
       " 47,\n",
       " 4,\n",
       " 76,\n",
       " 34,\n",
       " 22,\n",
       " 96,\n",
       " 30,\n",
       " 47,\n",
       " 17,\n",
       " 29,\n",
       " 51,\n",
       " 52,\n",
       " 49,\n",
       " 79,\n",
       " 51,\n",
       " 38,\n",
       " 87,\n",
       " 69,\n",
       " 12,\n",
       " 1,\n",
       " 95,\n",
       " 19,\n",
       " 75,\n",
       " 67,\n",
       " 97,\n",
       " 77,\n",
       " 93,\n",
       " 44,\n",
       " 3,\n",
       " 97,\n",
       " 98,\n",
       " 8,\n",
       " 93,\n",
       " 2,\n",
       " 17,\n",
       " 86,\n",
       " 19,\n",
       " 62,\n",
       " 79,\n",
       " 29,\n",
       " 6,\n",
       " 84,\n",
       " 2,\n",
       " 28,\n",
       " 32,\n",
       " 37,\n",
       " 45,\n",
       " 18,\n",
       " 15,\n",
       " 42,\n",
       " 85,\n",
       " 43,\n",
       " 59,\n",
       " 30,\n",
       " 28,\n",
       " 30,\n",
       " 63,\n",
       " 93,\n",
       " 34,\n",
       " 62,\n",
       " 43,\n",
       " 90,\n",
       " 68,\n",
       " 14,\n",
       " 38,\n",
       " 87]"
      ]
     },
     "execution_count": 2,
     "metadata": {},
     "output_type": "execute_result"
    }
   ],
   "source": [
    "random_number_list"
   ]
  },
  {
   "cell_type": "markdown",
   "metadata": {},
   "source": [
    "### Task 2"
   ]
  },
  {
   "cell_type": "code",
   "execution_count": 3,
   "metadata": {},
   "outputs": [],
   "source": [
    "list_with_divisible_by_3 = [a for a in random_number_list if a % 3 == 0]"
   ]
  },
  {
   "cell_type": "code",
   "execution_count": 4,
   "metadata": {},
   "outputs": [
    {
     "data": {
      "text/plain": [
       "[96,\n",
       " 78,\n",
       " 57,\n",
       " 63,\n",
       " 57,\n",
       " 33,\n",
       " 99,\n",
       " 54,\n",
       " 60,\n",
       " 24,\n",
       " 75,\n",
       " 45,\n",
       " 6,\n",
       " 69,\n",
       " 96,\n",
       " 30,\n",
       " 51,\n",
       " 51,\n",
       " 87,\n",
       " 69,\n",
       " 12,\n",
       " 75,\n",
       " 93,\n",
       " 3,\n",
       " 93,\n",
       " 6,\n",
       " 84,\n",
       " 45,\n",
       " 18,\n",
       " 15,\n",
       " 42,\n",
       " 30,\n",
       " 30,\n",
       " 63,\n",
       " 93,\n",
       " 90,\n",
       " 87]"
      ]
     },
     "execution_count": 4,
     "metadata": {},
     "output_type": "execute_result"
    }
   ],
   "source": [
    "list_with_divisible_by_3"
   ]
  },
  {
   "cell_type": "markdown",
   "metadata": {},
   "source": [
    "### Task 3"
   ]
  },
  {
   "cell_type": "code",
   "execution_count": 5,
   "metadata": {},
   "outputs": [
    {
     "data": {
      "text/plain": [
       "63"
      ]
     },
     "execution_count": 5,
     "metadata": {},
     "output_type": "execute_result"
    }
   ],
   "source": [
    "length_of_random_list = len(random_number_list)\n",
    "length_of_3_divisible_list = len(list_with_divisible_by_3)\n",
    "difference = length_of_random_list - length_of_3_divisible_list\n",
    "difference"
   ]
  },
  {
   "cell_type": "markdown",
   "metadata": {},
   "source": [
    "### Task 4"
   ]
  },
  {
   "cell_type": "code",
   "execution_count": 6,
   "metadata": {},
   "outputs": [
    {
     "data": {
      "text/plain": [
       "[64, 62, 66, 72, 66, 67, 74, 62, 59, 57]"
      ]
     },
     "execution_count": 6,
     "metadata": {},
     "output_type": "execute_result"
    }
   ],
   "source": [
    "NUMBER_OF_EXPERIEMENTS = 10\n",
    "difference_list = []\n",
    "for i in range(0, NUMBER_OF_EXPERIEMENTS):\n",
    "    random_number_list = [random.randint(0, LIMIT) for x in range(0, LIMIT)]\n",
    "    list_with_divisible_by_3 = [a for a in random_number_list if a % 3 == 0]\n",
    "    \n",
    "    length_of_random_list = len(random_number_list)\n",
    "    length_of_3_divisible_list = len(list_with_divisible_by_3)\n",
    "    difference = length_of_random_list - length_of_3_divisible_list\n",
    "    \n",
    "    difference_list.append(difference)\n",
    "difference_list"
   ]
  },
  {
   "cell_type": "code",
   "execution_count": 7,
   "metadata": {},
   "outputs": [
    {
     "data": {
      "text/plain": [
       "64.9"
      ]
     },
     "execution_count": 7,
     "metadata": {},
     "output_type": "execute_result"
    }
   ],
   "source": [
    "avg_diff = sum(difference_list) / float(len(difference_list))\n",
    "avg_diff"
   ]
  }
 ],
 "metadata": {
  "kernelspec": {
   "display_name": "Python 3",
   "language": "python",
   "name": "python3"
  },
  "language_info": {
   "codemirror_mode": {
    "name": "ipython",
    "version": 3
   },
   "file_extension": ".py",
   "mimetype": "text/x-python",
   "name": "python",
   "nbconvert_exporter": "python",
   "pygments_lexer": "ipython3",
   "version": "3.6.4"
  }
 },
 "nbformat": 4,
 "nbformat_minor": 2
}
